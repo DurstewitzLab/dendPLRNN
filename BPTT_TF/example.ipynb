{
 "cells": [
  {
   "cell_type": "markdown",
   "metadata": {},
   "source": [
    "### Result Inspection\n",
    "This notebook provides an example on how to evaluate trained models by generating trajectories, visualizing the dynamics and evaluating metrics."
   ]
  },
  {
   "cell_type": "code",
   "execution_count": null,
   "metadata": {},
   "outputs": [],
   "source": [
    "import numpy as np\n",
    "import torch as tc\n",
    "import matplotlib.pyplot as plt\n",
    "import seaborn as sns\n",
    "from bptt.models import Model"
   ]
  },
  {
   "cell_type": "code",
   "execution_count": null,
   "metadata": {},
   "outputs": [],
   "source": [
    "data_path = \"\" # e.g. \"Experiments/Table1/Lorenz63/data/lorenz63_test.npy\"\n",
    "model_path = \"\" # e.g. \"results/Lorenz63/M22B20tau25T200\""
   ]
  },
  {
   "cell_type": "code",
   "execution_count": null,
   "metadata": {},
   "outputs": [],
   "source": [
    "# load data\n",
    "lor63 = tc.tensor(np.load(data_path))"
   ]
  },
  {
   "cell_type": "code",
   "execution_count": null,
   "metadata": {},
   "outputs": [],
   "source": [
    "# restore model checkpoint\n",
    "m = Model()\n",
    "m.init_from_model_path(model_path, epoch=5000)\n",
    "m.eval()\n",
    "print(repr(m), f\"\\nNumber of Parameters: {m.get_num_trainable()}\")"
   ]
  },
  {
   "cell_type": "code",
   "execution_count": null,
   "metadata": {},
   "outputs": [],
   "source": [
    "# generate a trajectory freely running the model\n",
    "T = len(lor63)\n",
    "X, Z = m.generate_free_trajectory(lor63, T)\n",
    "X.shape, Z.shape"
   ]
  },
  {
   "cell_type": "code",
   "execution_count": null,
   "metadata": {},
   "outputs": [],
   "source": [
    "# some plotting\n",
    "plt.figure(figsize=(12, 8))\n",
    "plt.subplot(211)\n",
    "plt.plot(X[:1000])\n",
    "plt.ylabel(\"X\")\n",
    "plt.subplot(212)\n",
    "plt.plot(Z[:1000, 3:])\n",
    "plt.ylabel(\"Z\")\n",
    "plt.xlabel(\"T\")\n",
    "plt.show()"
   ]
  },
  {
   "cell_type": "code",
   "execution_count": null,
   "metadata": {},
   "outputs": [],
   "source": [
    "# plot AW matrix\n",
    "A, W, h = m.latent_model.get_latent_parameters()\n",
    "AW = tc.diag(A.detach()) + W.detach()\n",
    "plt.figure(figsize=(12, 8))\n",
    "sns.heatmap(data=AW, annot=True, cmap=\"Oranges_r\", square=True, fmt='.2f',\n",
    "            yticklabels=False, xticklabels=False)\n",
    "plt.show()"
   ]
  },
  {
   "cell_type": "code",
   "execution_count": null,
   "metadata": {},
   "outputs": [],
   "source": [
    "# plot state space trajectories\n",
    "x_np = Z.numpy()[:10000]\n",
    "lor_np = lor63.numpy()[:10000]\n",
    "fig = plt.figure(figsize=(12, 8))\n",
    "ax = plt.axes(projection='3d')\n",
    "ax.plot3D(lor_np[:, 0], lor_np[:, 1], lor_np[:, 2], label=\"GT\")\n",
    "ax.plot3D(x_np[:, 0], x_np[:, 1], x_np[:, 2], label=\"Generated\")\n",
    "plt.legend(fontsize=20)\n",
    "plt.tight_layout()\n",
    "plt.show()"
   ]
  },
  {
   "cell_type": "code",
   "execution_count": null,
   "metadata": {},
   "outputs": [],
   "source": [
    "# compute KLx and PSE\n",
    "from evaluation.klx import klx_metric\n",
    "from evaluation.pse import power_spectrum_error_per_dim\n",
    "\n",
    "klx = klx_metric(X, lor63, n_bins=30) # evaluated on one long trajectory here!\n",
    "psc = np.mean(power_spectrum_error_per_dim(X.unsqueeze(0), lor63.unsqueeze(0), 20, 20000))\n",
    "\n",
    "print(f\"KLx = {klx:.3f}, PSC = {psc:.3f}\")"
   ]
  },
  {
   "cell_type": "code",
   "execution_count": null,
   "metadata": {},
   "outputs": [],
   "source": []
  }
 ],
 "metadata": {
  "kernelspec": {
   "display_name": "Python 3.9.12 ('BPTT_TF')",
   "language": "python",
   "name": "python3"
  },
  "language_info": {
   "codemirror_mode": {
    "name": "ipython",
    "version": 3
   },
   "file_extension": ".py",
   "mimetype": "text/x-python",
   "name": "python",
   "nbconvert_exporter": "python",
   "pygments_lexer": "ipython3",
   "version": "3.9.12"
  },
  "orig_nbformat": 4,
  "vscode": {
   "interpreter": {
    "hash": "1fd559e1d4cb3eb2355a21ff138e9a5b295991e6e081d16b67d0d24a769392a0"
   }
  }
 },
 "nbformat": 4,
 "nbformat_minor": 2
}
